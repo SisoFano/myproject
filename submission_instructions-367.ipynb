{
 "cells": [
  {
   "cell_type": "markdown",
   "metadata": {},
   "source": [
    "# EDSA Analyse Hackathon Project Instructions\n",
    "\n",
    "When you have successfully created (and tested) your Python package and pushed your first working version to GitHub, use this notebook to submit your project to our autograder.   "
   ]
  },
  {
   "cell_type": "markdown",
   "metadata": {},
   "source": [
    "### Functions\n",
    "You will see two code cells below. These two cells define the functions that the autograder will use to install your Python package, test out all of your functions, and then uninstall your package again afterwards.   \n",
    "\n",
    "Most of the complicated stuff has been done for you, so you will just need to follow the four steps laid out in the comments below."
   ]
  },
  {
   "cell_type": "code",
   "execution_count": 2,
   "metadata": {
    "colab": {},
    "colab_type": "code",
    "id": "_R54-a34iB6V"
   },
   "outputs": [],
   "source": [
    "# STEP 1: edit the default 'package_name' argument below to match your package's name\n",
    "def install_package(package_name='myproject', method='git'):\n",
    "    \n",
    "    '''installs Python package from GitHub URL'''\n",
    "    \n",
    "    import os\n",
    "    import subprocess\n",
    "    \n",
    "    # STEP 2: edit the URL below to match your package's public GitHub URL\n",
    "    # url of git repo\n",
    "    url = 'https://github.com/SisoFano/EXPLORE.git'\n",
    "    \n",
    "    # command to install the python package from the given url\n",
    "    cmd = ['/home/ubuntu/anaconda3/bin/pip', 'install', method + '+' + url]\n",
    "    \n",
    "    # attempt to execute the command\n",
    "    subprocess.Popen( cmd, stdout=subprocess.PIPE ).communicate()[0]\n",
    "    \n",
    "    # STEP 3: edit the three lines below to correctly import your functions so that\n",
    "    #         the autograder may use them. the 'global' command ensures that your\n",
    "    #         functions will be visible to the autograder outside of the \n",
    "    #         'install_package' function.\n",
    "    global sum_array, fibonacci, factorial, reverse, bubble_sort, merge_sort, quick_sort\n",
    "    from myproject.recursion import sum_array, fibonacci, factorial, reverse\n",
    "    from myproject.sorting import bubble_sort, merge_sort, quick_sort\n",
    "    \n",
    "    # check that the package has been installed\n",
    "    #   - if package is found: output will be set to 0\n",
    "    #   - if package is not found: output will be set to 256\n",
    "    #   - here we want the function to return 0 (package found because\n",
    "    #     it has been successfully installed)\n",
    "    output = os.system('/home/ubuntu/anaconda3/bin/pip list | grep ' + package_name)\n",
    "    \n",
    "    return output"
   ]
  },
  {
   "cell_type": "code",
   "execution_count": 3,
   "metadata": {},
   "outputs": [],
   "source": [
    "# STEP 4: edit the default 'package_name' argument below to match your package's name.\n",
    "def modify_package(package_name='myproject', method='uninstall'):\n",
    "    \n",
    "    '''uninstalls/upgrades installed Python package'''\n",
    "\n",
    "    import os\n",
    "    import subprocess\n",
    "    \n",
    "    # command to uninstall the given package\n",
    "    cmd = ['/home/ubuntu/anaconda3/bin/pip', method, package_name, '--yes']\n",
    "    \n",
    "    # attempt to execute the command\n",
    "    subprocess.Popen( cmd, stdout=subprocess.PIPE ).communicate()[0]\n",
    "    \n",
    "    # check that the package has been uninstalled\n",
    "    #   - if package is found: output will be set to 0\n",
    "    #   - if package is not found: output will be set to 256\n",
    "    #   - here we want the function to return 256 (package not found because\n",
    "    #     it has been successfully uninstalled)\n",
    "    output = os.system('/home/ubuntu/anaconda3/bin/pip list | grep ' + package_name) \n",
    "    \n",
    "    return output"
   ]
  }
 ],
 "metadata": {
  "colab": {
   "collapsed_sections": [],
   "name": "installer.ipynb",
   "provenance": [],
   "version": "0.3.2"
  },
  "kernelspec": {
   "display_name": "Python 3",
   "language": "python",
   "name": "python3"
  },
  "language_info": {
   "codemirror_mode": {
    "name": "ipython",
    "version": 3
   },
   "file_extension": ".py",
   "mimetype": "text/x-python",
   "name": "python",
   "nbconvert_exporter": "python",
   "pygments_lexer": "ipython3",
   "version": "3.7.2"
  }
 },
 "nbformat": 4,
 "nbformat_minor": 2
}
